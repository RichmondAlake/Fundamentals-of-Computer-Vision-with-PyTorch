{
 "cells": [
  {
   "cell_type": "code",
   "execution_count": null,
   "metadata": {},
   "outputs": [],
   "source": [
    "! pip install wandb\n",
    "! pip3 install wandb\n",
    "! pip install torch torchvision torchaudio numpy"
   ]
  },
  {
   "cell_type": "markdown",
   "metadata": {},
   "source": [
    "Make sure to authenticate your local development environment by running the command ```wandb login```, which will prompt you to paste your API key."
   ]
  },
  {
   "cell_type": "code",
   "execution_count": 2,
   "metadata": {},
   "outputs": [
    {
     "name": "stderr",
     "output_type": "stream",
     "text": [
      "/Users/richmondalake/Library/Python/3.9/lib/python/site-packages/urllib3/__init__.py:35: NotOpenSSLWarning: urllib3 v2 only supports OpenSSL 1.1.1+, currently the 'ssl' module is compiled with 'LibreSSL 2.8.3'. See: https://github.com/urllib3/urllib3/issues/3020\n",
      "  warnings.warn(\n",
      "Failed to detect the name of this notebook, you can set it manually with the WANDB_NOTEBOOK_NAME environment variable to enable code saving.\n",
      "/Users/richmondalake/Library/Python/3.9/lib/python/site-packages/urllib3/__init__.py:35: NotOpenSSLWarning: urllib3 v2 only supports OpenSSL 1.1.1+, currently the 'ssl' module is compiled with 'LibreSSL 2.8.3'. See: https://github.com/urllib3/urllib3/issues/3020\n",
      "  warnings.warn(\n",
      "\u001b[34m\u001b[1mwandb\u001b[0m: Currently logged in as: \u001b[33mrichmondnet\u001b[0m. Use \u001b[1m`wandb login --relogin`\u001b[0m to force relogin\n"
     ]
    },
    {
     "data": {
      "text/html": [
       "Tracking run with wandb version 0.17.0"
      ],
      "text/plain": [
       "<IPython.core.display.HTML object>"
      ]
     },
     "metadata": {},
     "output_type": "display_data"
    },
    {
     "data": {
      "text/html": [
       "Run data is saved locally in <code>/Users/richmondalake/Desktop/O'reilly Code/module_5/wandb/run-20240602_091827-gqmdu35v</code>"
      ],
      "text/plain": [
       "<IPython.core.display.HTML object>"
      ]
     },
     "metadata": {},
     "output_type": "display_data"
    },
    {
     "data": {
      "text/html": [
       "Syncing run <strong><a href='https://wandb.ai/richmondnet/fashion-mnist/runs/gqmdu35v' target=\"_blank\">jolly-terrain-6</a></strong> to <a href='https://wandb.ai/richmondnet/fashion-mnist' target=\"_blank\">Weights & Biases</a> (<a href='https://wandb.me/run' target=\"_blank\">docs</a>)<br/>"
      ],
      "text/plain": [
       "<IPython.core.display.HTML object>"
      ]
     },
     "metadata": {},
     "output_type": "display_data"
    },
    {
     "data": {
      "text/html": [
       " View project at <a href='https://wandb.ai/richmondnet/fashion-mnist' target=\"_blank\">https://wandb.ai/richmondnet/fashion-mnist</a>"
      ],
      "text/plain": [
       "<IPython.core.display.HTML object>"
      ]
     },
     "metadata": {},
     "output_type": "display_data"
    },
    {
     "data": {
      "text/html": [
       " View run at <a href='https://wandb.ai/richmondnet/fashion-mnist/runs/gqmdu35v' target=\"_blank\">https://wandb.ai/richmondnet/fashion-mnist/runs/gqmdu35v</a>"
      ],
      "text/plain": [
       "<IPython.core.display.HTML object>"
      ]
     },
     "metadata": {},
     "output_type": "display_data"
    },
    {
     "name": "stdout",
     "output_type": "stream",
     "text": [
      "Using cpu device\n"
     ]
    }
   ],
   "source": [
    "import torch\n",
    "import torchvision\n",
    "from torchvision import datasets\n",
    "from torchvision.transforms import ToTensor\n",
    "import numpy as np\n",
    "from torch import nn\n",
    "import wandb\n",
    "\n",
    "# Initialize W&B\n",
    "wandb.init(project=\"fashion-mnist\")\n",
    "\n",
    "# Assuming CPU usage\n",
    "device = \"cpu\"\n",
    "\n",
    "# Check for CUDA GPU availability\n",
    "if torch.cuda.is_available():\n",
    "    device = \"cuda\"\n",
    "# If CUDA is not available, check for MPS availability (Apple silicon)\n",
    "elif torch.backends.mps.is_available():\n",
    "    device = \"mps\"\n",
    "\n",
    "print(f\"Using {device} device\")\n",
    "\n",
    "fashion_mnist_training = datasets.FashionMNIST(\n",
    "    root=\"data/FashionMNIST\",\n",
    "    train=True,\n",
    "    download=True,\n",
    "    transform=ToTensor(),\n",
    ")\n",
    "\n",
    "fashion_mnist_test = datasets.FashionMNIST(\n",
    "    root=\"data/FashionMNIST\",\n",
    "    train=False,\n",
    "    download=True,\n",
    "    transform=ToTensor(),\n",
    ")"
   ]
  },
  {
   "cell_type": "code",
   "execution_count": 3,
   "metadata": {},
   "outputs": [
    {
     "data": {
      "image/png": "[encoded data removed]",
      "text/plain": [
       "<Figure size 640x480 with 1 Axes>"
      ]
     },
     "metadata": {},
     "output_type": "display_data"
    },
    {
     "name": "stdout",
     "output_type": "stream",
     "text": [
      "Labels:   Coat T-shirt/top Trouser Ankle boot\n"
     ]
    }
   ],
   "source": [
    "import matplotlib.pyplot as plt\n",
    "\n",
    "# FashionMNIST class names\n",
    "classes = [\"T-shirt/top\", \"Trouser\", \"Pullover\", \"Dress\", \"Coat\",\n",
    "           \"Sandal\", \"Shirt\", \"Sneaker\", \"Bag\", \"Ankle boot\"]\n",
    "\n",
    "def imshow(img):\n",
    "    # Convert the tensor image to numpy for displaying\n",
    "    img = img.numpy()\n",
    "    # The images are in Channel x Height x Width format. Convert them to Height x Width x Channel format.\n",
    "    plt.imshow(np.transpose(img, (1, 2, 0)))\n",
    "    plt.show()\n",
    "\n",
    "# Get some random training images\n",
    "data_loader = torch.utils.data.DataLoader(fashion_mnist_training, batch_size=4, shuffle=True)\n",
    "images, labels = next(iter(data_loader))\n",
    "\n",
    "# Show images\n",
    "imshow(torchvision.utils.make_grid(images))\n",
    "\n",
    "# Print labels\n",
    "print('Labels: ', ' '.join('%5s' % classes[labels[j]] for j in range(4)))\n"
   ]
  },
  {
   "cell_type": "code",
   "execution_count": 4,
   "metadata": {},
   "outputs": [],
   "source": [
    "from torch.utils.data import DataLoader, random_split\n",
    "\n",
    "train_size = int(0.8 * len(fashion_mnist_training))\n",
    "validation_size = len(fashion_mnist_training) - train_size\n",
    "train_dataset, validation_dataset = random_split(fashion_mnist_training, [train_size, validation_size])\n",
    "\n",
    "batch_size = 64\n",
    "\n",
    "train_loader = DataLoader(train_dataset, batch_size=batch_size, shuffle=True)\n",
    "validation_loader = DataLoader(validation_dataset, batch_size=batch_size, shuffle=False)\n",
    "test_loader = DataLoader(fashion_mnist_test, batch_size=batch_size, shuffle=False)"
   ]
  },
  {
   "cell_type": "code",
   "execution_count": 5,
   "metadata": {},
   "outputs": [],
   "source": [
    "class NeuralNetwork(nn.Module):\n",
    "    def __init__(self, input_size, num_classes):\n",
    "        super(NeuralNetwork, self).__init__()\n",
    "        self.flatten = nn.Flatten()\n",
    "        self.linear_relu_stack = nn.Sequential(\n",
    "            nn.Linear(input_size, 784),\n",
    "            nn.ReLU(),\n",
    "            nn.Linear(784, 784),\n",
    "            nn.ReLU(),\n",
    "            nn.Linear(784, num_classes)\n",
    "        )\n",
    "\n",
    "    def forward(self, x):\n",
    "        x = self.flatten(x)\n",
    "        logits = self.linear_relu_stack(x)\n",
    "        return logits"
   ]
  },
  {
   "cell_type": "code",
   "execution_count": 6,
   "metadata": {},
   "outputs": [],
   "source": [
    "from torch import optim\n",
    "\n",
    "# Initialize the neural network\n",
    "model_fashion = NeuralNetwork(28*28, 10).to(device)\n",
    "\n",
    "# Loss function and optimizer\n",
    "loss_fn = nn.CrossEntropyLoss()\n",
    "optimizer = optim.Adam(model_fashion.parameters())"
   ]
  },
  {
   "cell_type": "code",
   "execution_count": 7,
   "metadata": {},
   "outputs": [],
   "source": [
    "# Training function\n",
    "def train(dataloader, model, loss_fn, optimizer, epoch):\n",
    "    size = len(dataloader.dataset)\n",
    "    model.train()\n",
    "    for batch, (X, y) in enumerate(dataloader):\n",
    "        X, y = X.to(device), y.to(device)\n",
    "\n",
    "        # Compute prediction error\n",
    "        pred = model(X)\n",
    "        loss = loss_fn(pred, y)\n",
    "\n",
    "        # Backpropagation\n",
    "        optimizer.zero_grad()\n",
    "        loss.backward()\n",
    "        optimizer.step()\n",
    "\n",
    "        if batch % 100 == 0:\n",
    "            loss, current = loss.item(), batch * len(X)\n",
    "            print(f\"loss: {loss:>7f}  [{current:>5d}/{size:>5d}]\")\n",
    "            # Log training metrics to W&B\n",
    "            wandb.log({\"epoch\": epoch, \"batch_loss\": loss, \"batch\": batch})\n",
    "\n"
   ]
  },
  {
   "cell_type": "code",
   "execution_count": 8,
   "metadata": {},
   "outputs": [],
   "source": [
    "# Validation function\n",
    "def validate(dataloader, model, loss_fn, epoch):\n",
    "    size = len(dataloader.dataset)\n",
    "    num_batches = len(dataloader)\n",
    "    model.eval()\n",
    "    validation_loss, correct = 0, 0\n",
    "    with torch.no_grad():\n",
    "        for X, y in dataloader:\n",
    "            X, y = X.to(device), y.to(device)\n",
    "            pred = model(X)\n",
    "            validation_loss += loss_fn(pred, y).item()\n",
    "            correct += (pred.argmax(1) == y).type(torch.float).sum().item()\n",
    "    validation_loss /= num_batches\n",
    "    correct /= size\n",
    "    print(f\"Validation Error: Accuracy: {(100*correct):>0.1f}%, Avg loss: {validation_loss:>8f} \\n\")\n",
    "    # Log validation metrics to W&B\n",
    "    wandb.log({\"epoch\": epoch, \"validation_loss\": validation_loss, \"validation_accuracy\": correct})\n"
   ]
  },
  {
   "cell_type": "code",
   "execution_count": 9,
   "metadata": {},
   "outputs": [
    {
     "name": "stdout",
     "output_type": "stream",
     "text": [
      "Epoch 1\n",
      "-------------------------------\n",
      "loss: 2.297832  [    0/48000]\n",
      "loss: 0.487481  [ 6400/48000]\n",
      "loss: 0.269279  [12800/48000]\n",
      "loss: 0.302580  [19200/48000]\n",
      "loss: 0.511297  [25600/48000]\n",
      "loss: 0.359479  [32000/48000]\n",
      "loss: 0.313266  [38400/48000]\n",
      "loss: 0.431401  [44800/48000]\n",
      "Validation Error: Accuracy: 83.9%, Avg loss: 0.438292 \n",
      "\n",
      "Epoch 2\n",
      "-------------------------------\n",
      "loss: 0.536376  [    0/48000]\n",
      "loss: 0.257389  [ 6400/48000]\n",
      "loss: 0.730881  [12800/48000]\n",
      "loss: 0.372094  [19200/48000]\n",
      "loss: 0.382029  [25600/48000]\n",
      "loss: 0.355762  [32000/48000]\n",
      "loss: 0.450452  [38400/48000]\n",
      "loss: 0.476491  [44800/48000]\n",
      "Validation Error: Accuracy: 86.6%, Avg loss: 0.368948 \n",
      "\n",
      "Epoch 3\n",
      "-------------------------------\n",
      "loss: 0.279517  [    0/48000]\n",
      "loss: 0.416631  [ 6400/48000]\n",
      "loss: 0.367672  [12800/48000]\n",
      "loss: 0.309907  [19200/48000]\n",
      "loss: 0.547899  [25600/48000]\n",
      "loss: 0.251108  [32000/48000]\n",
      "loss: 0.392729  [38400/48000]\n",
      "loss: 0.159858  [44800/48000]\n",
      "Validation Error: Accuracy: 87.7%, Avg loss: 0.355257 \n",
      "\n",
      "Epoch 4\n",
      "-------------------------------\n",
      "loss: 0.226687  [    0/48000]\n",
      "loss: 0.249224  [ 6400/48000]\n",
      "loss: 0.362256  [12800/48000]\n",
      "loss: 0.394769  [19200/48000]\n",
      "loss: 0.315531  [25600/48000]\n",
      "loss: 0.229481  [32000/48000]\n",
      "loss: 0.302645  [38400/48000]\n",
      "loss: 0.437588  [44800/48000]\n",
      "Validation Error: Accuracy: 87.3%, Avg loss: 0.351971 \n",
      "\n",
      "Epoch 5\n",
      "-------------------------------\n",
      "loss: 0.266926  [    0/48000]\n",
      "loss: 0.424312  [ 6400/48000]\n",
      "loss: 0.320882  [12800/48000]\n",
      "loss: 0.222818  [19200/48000]\n",
      "loss: 0.288543  [25600/48000]\n",
      "loss: 0.372728  [32000/48000]\n",
      "loss: 0.244098  [38400/48000]\n",
      "loss: 0.265305  [44800/48000]\n",
      "Validation Error: Accuracy: 87.1%, Avg loss: 0.365527 \n",
      "\n",
      "Training done!\n"
     ]
    }
   ],
   "source": [
    "# Training loop\n",
    "epochs = 5\n",
    "for epoch in range(epochs):\n",
    "    print(f\"Epoch {epoch+1}\\n-------------------------------\")\n",
    "    train(train_loader, model_fashion, loss_fn, optimizer, epoch)\n",
    "    validate(validation_loader, model_fashion, loss_fn, epoch)\n",
    "print(\"Training done!\")"
   ]
  },
  {
   "cell_type": "code",
   "execution_count": 10,
   "metadata": {},
   "outputs": [],
   "source": [
    "# Test the model\n",
    "def test(dataloader, model):\n",
    "    size = len(dataloader.dataset)\n",
    "    num_batches = len(dataloader)\n",
    "    model.eval()\n",
    "    test_loss, correct = 0, 0\n",
    "    with torch.no_grad():\n",
    "        for X, y in dataloader:\n",
    "            X, y = X.to(device), y.to(device)\n",
    "            pred = model(X)\n",
    "            test_loss += loss_fn(pred, y).item()\n",
    "            correct += (pred.argmax(1) == y).type(torch.float).sum().item()\n",
    "    test_loss /= num_batches\n",
    "    correct /= size\n",
    "    print(f\"Test Error: \\n Accuracy: {(100*correct):>0.1f}%, Avg loss: {test_loss:>8f} \\n\")\n",
    "    # Log test metrics to W&B\n",
    "    wandb.log({\"test_loss\": test_loss, \"test_accuracy\": correct})\n"
   ]
  },
  {
   "cell_type": "code",
   "execution_count": 11,
   "metadata": {},
   "outputs": [
    {
     "name": "stdout",
     "output_type": "stream",
     "text": [
      "Test Error: \n",
      " Accuracy: 87.1%, Avg loss: 0.366266 \n",
      "\n"
     ]
    },
    {
     "name": "stderr",
     "output_type": "stream",
     "text": [
      "wandb: Network error (ConnectionError), entering retry loop.\n"
     ]
    }
   ],
   "source": [
    "test(test_loader, model_fashion)"
   ]
  }
 ],
 "metadata": {
  "kernelspec": {
   "display_name": "Python 3",
   "language": "python",
   "name": "python3"
  },
  "language_info": {
   "codemirror_mode": {
    "name": "ipython",
    "version": 3
   },
   "file_extension": ".py",
   "mimetype": "text/x-python",
   "name": "python",
   "nbconvert_exporter": "python",
   "pygments_lexer": "ipython3",
   "version": "3.9.6"
  }
 },
 "nbformat": 4,
 "nbformat_minor": 2
}
