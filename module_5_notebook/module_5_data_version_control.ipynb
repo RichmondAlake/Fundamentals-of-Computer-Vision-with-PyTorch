{
 "cells": [
  {
   "cell_type": "markdown",
   "metadata": {},
   "source": [
    "# Module 5"
   ]
  },
  {
   "cell_type": "markdown",
   "metadata": {},
   "source": [
    "## Dataset Version Control with DVC"
   ]
  },
  {
   "cell_type": "markdown",
   "metadata": {},
   "source": [
    "### Step 1\n",
    "Install DVC python libary in local machine:\n",
    "```pip install dvc```"
   ]
  },
  {
   "cell_type": "code",
   "execution_count": null,
   "metadata": {},
   "outputs": [],
   "source": [
    "! pip install dvc\n",
    "! pip install dvc_gdrive"
   ]
  },
  {
   "cell_type": "markdown",
   "metadata": {},
   "source": [
    "### Step 2: Initialize Git and DVC in Your Development Environment and Working Directory\n",
    "\n",
    "1. **Navigate to Your Project Directory**:\n",
    "   Open your terminal and navigate to the directory where your project is located or where you want to create your project.\n",
    "\n",
    "   ```sh\n",
    "   cd /path/to/your/project\n",
    "   ```\n",
    "\n",
    "2. **Initialize a Git Repository**:\n",
    "   Initialize a new Git repository in your project directory. This will enable version control for your project files.\n",
    "   \n",
    "   ```sh\n",
    "   git init\n",
    "   ```\n",
    "3. **Initialize a DVC Repository**:\n",
    "   Initialize a new DVC repository in the same directory. \n",
    "   This will set up DVC configuration files and directories for managing your data and models.\n",
    "   ```sh\n",
    "   dvc init\n",
    "   ```"
   ]
  },
  {
   "cell_type": "markdown",
   "metadata": {},
   "source": [
    "### Step 3: Install Required Libraries\n",
    "\n",
    "Install the necessary Python libraries for your project, including PyTorch, Torchvision, Torchaudio, NumPy, and Matplotlib.\n",
    "\n",
    "```sh\n",
    "pip install torch torchvision torchaudio numpy matplotlib\n",
    "```\n",
    "\n",
    "What This Command Does:\n",
    "- torch: Installs PyTorch, an open-source machine learning library.\n",
    "- torchvision: Installs Torchvision, a library for computer vision.\n",
    "- torchaudio: Installs Torchaudio, a library for audio processing.\n",
    "- numpy: Installs NumPy, a library for numerical computations.\n",
    "- matplotlib: Installs Matplotlib, a library for creating visualizations."
   ]
  },
  {
   "cell_type": "code",
   "execution_count": null,
   "metadata": {},
   "outputs": [],
   "source": [
    "pip install torch torchvision torchaudio numpy matplotlib"
   ]
  },
  {
   "cell_type": "code",
   "execution_count": 5,
   "metadata": {},
   "outputs": [],
   "source": [
    "import torch\n",
    "import torchvision\n",
    "from torch.utils.data import Dataset\n",
    "from torchvision import datasets\n",
    "from torchvision.transforms import ToTensor\n",
    "from torch.utils.data import random_split, DataLoader\n",
    "import matplotlib.pyplot as plt\n",
    "import torchvision.transforms as transforms\n",
    "import numpy as np\n",
    "import os\n",
    "\n"
   ]
  },
  {
   "cell_type": "markdown",
   "metadata": {},
   "source": [
    "### Step 4: Download and Prepare the FashionMNIST Dataset\n",
    "\n",
    "Download the FashionMNIST dataset and prepare it for training and testing.\n",
    "Also, Define the class names for the FashionMNIST dataset."
   ]
  },
  {
   "cell_type": "code",
   "execution_count": 6,
   "metadata": {},
   "outputs": [
    {
     "name": "stdout",
     "output_type": "stream",
     "text": [
      "Downloading http://fashion-mnist.s3-website.eu-central-1.amazonaws.com/train-images-idx3-ubyte.gz\n",
      "Downloading http://fashion-mnist.s3-website.eu-central-1.amazonaws.com/train-images-idx3-ubyte.gz to data/FashionMNIST/FashionMNIST/raw/train-images-idx3-ubyte.gz\n"
     ]
    },
    {
     "name": "stderr",
     "output_type": "stream",
     "text": [
      "100%|██████████| 26421880/26421880 [00:05<00:00, 5243386.54it/s]\n"
     ]
    },
    {
     "name": "stdout",
     "output_type": "stream",
     "text": [
      "Extracting data/FashionMNIST/FashionMNIST/raw/train-images-idx3-ubyte.gz to data/FashionMNIST/FashionMNIST/raw\n",
      "\n",
      "Downloading http://fashion-mnist.s3-website.eu-central-1.amazonaws.com/train-labels-idx1-ubyte.gz\n",
      "Downloading http://fashion-mnist.s3-website.eu-central-1.amazonaws.com/train-labels-idx1-ubyte.gz to data/FashionMNIST/FashionMNIST/raw/train-labels-idx1-ubyte.gz\n"
     ]
    },
    {
     "name": "stderr",
     "output_type": "stream",
     "text": [
      "100%|██████████| 29515/29515 [00:00<00:00, 1913574.61it/s]\n"
     ]
    },
    {
     "name": "stdout",
     "output_type": "stream",
     "text": [
      "Extracting data/FashionMNIST/FashionMNIST/raw/train-labels-idx1-ubyte.gz to data/FashionMNIST/FashionMNIST/raw\n",
      "\n",
      "Downloading http://fashion-mnist.s3-website.eu-central-1.amazonaws.com/t10k-images-idx3-ubyte.gz\n",
      "Downloading http://fashion-mnist.s3-website.eu-central-1.amazonaws.com/t10k-images-idx3-ubyte.gz to data/FashionMNIST/FashionMNIST/raw/t10k-images-idx3-ubyte.gz\n"
     ]
    },
    {
     "name": "stderr",
     "output_type": "stream",
     "text": [
      "100%|██████████| 4422102/4422102 [00:00<00:00, 5056228.08it/s]\n"
     ]
    },
    {
     "name": "stdout",
     "output_type": "stream",
     "text": [
      "Extracting data/FashionMNIST/FashionMNIST/raw/t10k-images-idx3-ubyte.gz to data/FashionMNIST/FashionMNIST/raw\n",
      "\n",
      "Downloading http://fashion-mnist.s3-website.eu-central-1.amazonaws.com/t10k-labels-idx1-ubyte.gz\n",
      "Downloading http://fashion-mnist.s3-website.eu-central-1.amazonaws.com/t10k-labels-idx1-ubyte.gz to data/FashionMNIST/FashionMNIST/raw/t10k-labels-idx1-ubyte.gz\n"
     ]
    },
    {
     "name": "stderr",
     "output_type": "stream",
     "text": [
      "100%|██████████| 5148/5148 [00:00<00:00, 3110830.86it/s]"
     ]
    },
    {
     "name": "stdout",
     "output_type": "stream",
     "text": [
      "Extracting data/FashionMNIST/FashionMNIST/raw/t10k-labels-idx1-ubyte.gz to data/FashionMNIST/FashionMNIST/raw\n",
      "\n"
     ]
    },
    {
     "name": "stderr",
     "output_type": "stream",
     "text": [
      "\n"
     ]
    }
   ],
   "source": [
    "# Download and prepare the FashionMNIST dataset\n",
    "fashion_mnist_training = datasets.FashionMNIST(\n",
    "    root=\"data/FashionMNIST\",\n",
    "    train=True,\n",
    "    download=True,\n",
    "    transform=ToTensor(),\n",
    ")\n",
    "\n",
    "fashion_mnist_test = datasets.FashionMNIST(\n",
    "    root=\"data/FashionMNIST\",\n",
    "    train=False,\n",
    "    download=True,\n",
    "    transform=ToTensor(),\n",
    ")"
   ]
  },
  {
   "cell_type": "code",
   "execution_count": 7,
   "metadata": {},
   "outputs": [],
   "source": [
    "# FashionMNIST class names\n",
    "classes = [\"T-shirt/top\", \"Trouser\", \"Pullover\", \"Dress\", \"Coat\",\n",
    "           \"Sandal\", \"Shirt\", \"Sneaker\", \"Bag\", \"Ankle boot\"]"
   ]
  },
  {
   "cell_type": "markdown",
   "metadata": {},
   "source": [
    "### Step 5: Create Utility Functions\n",
    "\n",
    "- imshow: To display images\n",
    "- split_datadet: To partition dataset into training and validation set using a specified training partition ratio"
   ]
  },
  {
   "cell_type": "code",
   "execution_count": 8,
   "metadata": {},
   "outputs": [],
   "source": [
    "# Define a function to show images\n",
    "def imshow(img):\n",
    "    # Convert the tensor image to numpy for displaying\n",
    "    img = img.numpy()\n",
    "    # The images are in Channel x Height x Width format. Convert them to Height x Width x Channel format.\n",
    "    plt.imshow(np.transpose(img, (1, 2, 0)))\n",
    "    plt.show()"
   ]
  },
  {
   "cell_type": "code",
   "execution_count": 9,
   "metadata": {},
   "outputs": [],
   "source": [
    "def split_dataset(dataset, train_ratio=0.8):\n",
    "    train_size = int(train_ratio * len(dataset))\n",
    "    validation_size = len(dataset) - train_size\n",
    "    return random_split(dataset, [train_size, validation_size])"
   ]
  },
  {
   "cell_type": "markdown",
   "metadata": {},
   "source": [
    "### Step 6: Create and Save Two Different Versions of the Dataset Splits\n",
    "\n",
    "Create and prepare two different versions of the dataset splits for training, validation, and testing.\n",
    "\n",
    "- train_dataset_v1, validation_dataset_v1: Creates the training and validation splits for Version 1 with an 80/20 ratio.\n",
    "- train_dataset_v2, validation_dataset_v2: Creates the training and validation splits for Version 2 with a 70/30 ratio\n",
    "\n",
    "Save the created dataset splits to separate directories for each version."
   ]
  },
  {
   "cell_type": "code",
   "execution_count": 10,
   "metadata": {},
   "outputs": [],
   "source": [
    "# Create two different versions of the dataset splits\n",
    "\n",
    "# Version 1 splits\n",
    "train_dataset_v1, validation_dataset_v1 = split_dataset(fashion_mnist_training, train_ratio=0.8)\n",
    "test_dataset_v1 = fashion_mnist_test\n",
    "\n",
    "# Version 2 splits (different train/validation ratio for demonstration)\n",
    "train_dataset_v2, validation_dataset_v2 = split_dataset(fashion_mnist_training, train_ratio=0.7)\n",
    "test_dataset_v2 = fashion_mnist_test"
   ]
  },
  {
   "cell_type": "markdown",
   "metadata": {},
   "source": [
    "Note:\n",
    "* In the PyTorch framework, the .pt file extension is used to represent serialized objects, such as trained models and datasets. \n",
    "* The .pt suffix is an abbreviation for \"PyTorch,\" and it is used when saving and loading objects using the `torch.save` and `torch.load` functions. \n",
    "* These functions convert the objects into a binary format, allowing for efficient storage on disk. \n",
    "* The serialized objects can be seamlessly loaded back into a PyTorch environment for further processing or utilization."
   ]
  },
  {
   "cell_type": "code",
   "execution_count": 11,
   "metadata": {},
   "outputs": [],
   "source": [
    "# Save the splits\n",
    "os.makedirs('data/version1', exist_ok=True)\n",
    "torch.save(train_dataset_v1, 'data/version1/train.pt')\n",
    "torch.save(validation_dataset_v1, 'data/version1/validation.pt')\n",
    "torch.save(test_dataset_v1, 'data/version1/test.pt')\n",
    "\n",
    "os.makedirs('data/version2', exist_ok=True)\n",
    "torch.save(train_dataset_v2, 'data/version2/train.pt')\n",
    "torch.save(validation_dataset_v2, 'data/version2/validation.pt')\n",
    "torch.save(test_dataset_v2, 'data/version2/test.pt')"
   ]
  },
  {
   "cell_type": "markdown",
   "metadata": {},
   "source": [
    "### Step 7: Visualize content of each dataset version"
   ]
  },
  {
   "cell_type": "code",
   "execution_count": 12,
   "metadata": {},
   "outputs": [
    {
     "data": {
      "image/png": "[encoded data removed]",
      "text/plain": [
       "<Figure size 640x480 with 1 Axes>"
      ]
     },
     "metadata": {},
     "output_type": "display_data"
    },
    {
     "name": "stdout",
     "output_type": "stream",
     "text": [
      "Labels:  Ankle boot Pullover  Coat Sneaker\n"
     ]
    }
   ],
   "source": [
    "# Show images from the training set of version 1\n",
    "train_loader_v1 = DataLoader(train_dataset_v1, batch_size=4, shuffle=True)\n",
    "images, labels = next(iter(train_loader_v1))\n",
    "\n",
    "# Show images\n",
    "imshow(torchvision.utils.make_grid(images))\n",
    "\n",
    "# Print labels\n",
    "print('Labels: ', ' '.join('%5s' % classes[labels[j]] for j in range(4)))"
   ]
  },
  {
   "cell_type": "code",
   "execution_count": 13,
   "metadata": {},
   "outputs": [
    {
     "data": {
      "image/png": "[encoded data removed]",
      "text/plain": [
       "<Figure size 640x480 with 1 Axes>"
      ]
     },
     "metadata": {},
     "output_type": "display_data"
    },
    {
     "name": "stdout",
     "output_type": "stream",
     "text": [
      "Labels:  T-shirt/top   Bag Shirt Shirt\n"
     ]
    }
   ],
   "source": [
    "# Show images from the training set of version 2\n",
    "train_loader_v2 = DataLoader(train_dataset_v2, batch_size=4, shuffle=True)\n",
    "images, labels = next(iter(train_loader_v2))\n",
    "\n",
    "# Show images\n",
    "imshow(torchvision.utils.make_grid(images))\n",
    "\n",
    "# Print labels\n",
    "print('Labels: ', ' '.join('%5s' % classes[labels[j]] for j in range(4)))"
   ]
  },
  {
   "cell_type": "markdown",
   "metadata": {},
   "source": [
    "### Step 8: Add the Datasets to DVC and Configure Remote Storage\n",
    "\n",
    "Add the saved dataset splits to DVC and configure a remote storage location.\n",
    "\n",
    "```sh\n",
    "# Add the datasets to DVC\n",
    "!dvc add data/version1\n",
    "!dvc add data/version2\n",
    "\n",
    "# Add to remote location\n",
    "dvc remote add -d default gdrive://example_location"
   ]
  },
  {
   "cell_type": "markdown",
   "metadata": {},
   "source": [
    "### Step 9: Load and Visualize a Dataset Split\n",
    "\n",
    "Load the saved dataset splits using PyTorch and visualize the images along with their labels.\n"
   ]
  },
  {
   "cell_type": "code",
   "execution_count": null,
   "metadata": {},
   "outputs": [],
   "source": [
    "# Example for PyTorch\n",
    "train_dataset = torch.load('data/version1/train.pt')\n",
    "train_loader = DataLoader(train_dataset, batch_size=64, shuffle=True)\n",
    "images, labels = next(iter(train_loader))\n",
    "\n",
    "# Show images\n",
    "imshow(torchvision.utils.make_grid(images))\n",
    "\n",
    "# Print labels\n",
    "print('Labels: ', ' '.join('%5s' % classes[labels[j]] for j in range(4)))"
   ]
  }
 ],
 "metadata": {
  "kernelspec": {
   "display_name": "Python 3",
   "language": "python",
   "name": "python3"
  },
  "language_info": {
   "codemirror_mode": {
    "name": "ipython",
    "version": 3
   },
   "file_extension": ".py",
   "mimetype": "text/x-python",
   "name": "python",
   "nbconvert_exporter": "python",
   "pygments_lexer": "ipython3",
   "version": "3.9.6"
  }
 },
 "nbformat": 4,
 "nbformat_minor": 2
}
